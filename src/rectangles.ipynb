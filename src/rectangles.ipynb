{
 "cells": [
  {
   "cell_type": "code",
   "execution_count": 1,
   "id": "91f587aa-06ce-4989-b919-319ab26ddd5e",
   "metadata": {},
   "outputs": [
    {
     "data": {
      "application/vnd.jupyter.widget-view+json": {
       "model_id": "c087ad5d83864b5ea5fb0d2a9991a133",
       "version_major": 2,
       "version_minor": 0
      },
      "text/plain": [
       "RoughCanvas()"
      ]
     },
     "metadata": {},
     "output_type": "display_data"
    }
   ],
   "source": [
    "from ipycanvas import RoughCanvas\n",
    "\n",
    "canvas = RoughCanvas()\n",
    "\n",
    "canvas.stroke_style = 'red'\n",
    "canvas.fill_style = 'blue'\n",
    "canvas.stroke_rect(100, 100, 400, 100)\n",
    "canvas.fill_rect(50, 50, 100, 100)\n",
    "\n",
    "canvas.stroke_style = 'purple'\n",
    "canvas.fill_style = 'green'\n",
    "canvas.stroke_circle(300, 300, 100)\n",
    "canvas.fill_circle(350, 350, 100)\n",
    "\n",
    "canvas.stroke_line(200, 200, 300, 300)\n",
    "\n",
    "canvas"
   ]
  },
  {
   "cell_type": "code",
   "execution_count": 17,
   "id": "9e3bc761-991b-4fb0-8fc0-1f0ac01a1aa6",
   "metadata": {},
   "outputs": [
    {
     "name": "stdin",
     "output_type": "stream",
     "text": [
      "please enter number a:  355\n",
      "please enter number b:  123\n"
     ]
    },
    {
     "name": "stdout",
     "output_type": "stream",
     "text": [
      "The area of the rectangle is 43665\n"
     ]
    }
   ],
   "source": [
    "a=int(input('please enter number a: '))\n",
    "b=int(input('please enter number b: '))\n",
    "area=a*b\n",
    "print('The area of the rectangle is', area)\n"
   ]
  },
  {
   "cell_type": "code",
   "execution_count": 18,
   "id": "8a3695dd-8ed6-423f-a627-4e9a01c13be9",
   "metadata": {},
   "outputs": [
    {
     "data": {
      "application/vnd.jupyter.widget-view+json": {
       "model_id": "a405068bd3e94b4e830d5129ccbf25bb",
       "version_major": 2,
       "version_minor": 0
      },
      "text/plain": [
       "RoughCanvas()"
      ]
     },
     "metadata": {},
     "output_type": "display_data"
    }
   ],
   "source": [
    "from ipycanvas import RoughCanvas\n",
    "kansas = RoughCanvas()\n",
    "kansas.stroke_rect(0,0,a,b)\n",
    "kansas"
   ]
  },
  {
   "cell_type": "code",
   "execution_count": 2,
   "id": "379b884f-b736-496d-957c-5dbb0a0c563d",
   "metadata": {},
   "outputs": [
    {
     "data": {
      "application/vnd.jupyter.widget-view+json": {
       "model_id": "8e6c584786224d4aa68ff9de33dcf506",
       "version_major": 2,
       "version_minor": 0
      },
      "text/plain": [
       "RoughCanvas()"
      ]
     },
     "metadata": {},
     "output_type": "display_data"
    }
   ],
   "source": [
    "from ipycanvas import RoughCanvas\n",
    "a=123\n",
    "b=234\n",
    "k = RoughCanvas()\n",
    "k.stroke_rect(0,0,a,b)\n",
    "k"
   ]
  },
  {
   "cell_type": "code",
   "execution_count": 10,
   "id": "6b26dcfa-de7a-414e-b784-b87146c16dbf",
   "metadata": {},
   "outputs": [
    {
     "data": {
      "application/vnd.jupyter.widget-view+json": {
       "model_id": "b3b90d7e138a465d973d5ec622da5cd9",
       "version_major": 2,
       "version_minor": 0
      },
      "text/plain": [
       "RoughCanvas()"
      ]
     },
     "metadata": {},
     "output_type": "display_data"
    }
   ],
   "source": [
    "from ipycanvas import RoughCanvas\n",
    "\n",
    "canvas = RoughCanvas()\n",
    "canvas.stroke_line(0,0,300,0)\n",
    "\n",
    "canvas"
   ]
  },
  {
   "cell_type": "code",
   "execution_count": 11,
   "id": "c08e525a-a02a-43a0-84e6-37b763ca1c60",
   "metadata": {},
   "outputs": [
    {
     "data": {
      "application/vnd.jupyter.widget-view+json": {
       "model_id": "847edeac40b54c35adccf239dc7f0d8f",
       "version_major": 2,
       "version_minor": 0
      },
      "text/plain": [
       "RoughCanvas()"
      ]
     },
     "metadata": {},
     "output_type": "display_data"
    }
   ],
   "source": [
    "from ipycanvas import RoughCanvas\n",
    "\n",
    "canvas = RoughCanvas()\n",
    "canvas.stroke_line(0,0,300,0)\n",
    "canvas.stroke_line(0,100,300,100)\n",
    "canvas.stroke_line(0,200,300,200)\n",
    "canvas"
   ]
  },
  {
   "cell_type": "code",
   "execution_count": 32,
   "id": "d0e8adaf-4cc9-41ff-b19d-41f82c88c712",
   "metadata": {},
   "outputs": [
    {
     "data": {
      "application/vnd.jupyter.widget-view+json": {
       "model_id": "7dd9d598280e4271bfaeb9fc86999726",
       "version_major": 2,
       "version_minor": 0
      },
      "text/plain": [
       "RoughCanvas()"
      ]
     },
     "metadata": {},
     "output_type": "display_data"
    }
   ],
   "source": [
    "from ipycanvas import RoughCanvas\n",
    "\n",
    "canvas = RoughCanvas()\n",
    "\n",
    "\n",
    "for y in [0,10,20,30,40,50,60,70,80,90]:\n",
    "    canvas.stroke_line(0,y,300,y)\n",
    "\n",
    "canvas"
   ]
  },
  {
   "cell_type": "code",
   "execution_count": 4,
   "id": "3f2f8726-724f-409d-a58e-03f34d59d328",
   "metadata": {},
   "outputs": [
    {
     "data": {
      "application/vnd.jupyter.widget-view+json": {
       "model_id": "e9688188a2c84c2a8f1d9441430c8ef9",
       "version_major": 2,
       "version_minor": 0
      },
      "text/plain": [
       "RoughCanvas()"
      ]
     },
     "metadata": {},
     "output_type": "display_data"
    }
   ],
   "source": [
    "from ipycanvas import RoughCanvas\n",
    "\n",
    "canvas = RoughCanvas()\n",
    "\n",
    "for xcaabb in [0,10,20,30,40,50,60,70,80,90]:\n",
    "    canvas.stroke_line(xcaabb,0,xcaabb,300)\n",
    "\n",
    "canvas"
   ]
  },
  {
   "cell_type": "code",
   "execution_count": 13,
   "id": "ac3ffbe4-a125-410e-8bf1-6199367aa2e5",
   "metadata": {},
   "outputs": [],
   "source": [
    "x=[0,10,20,30,40,50]"
   ]
  },
  {
   "cell_type": "code",
   "execution_count": 14,
   "id": "19a416f9-83f7-4401-998d-a271a78214ea",
   "metadata": {},
   "outputs": [
    {
     "data": {
      "text/plain": [
       "[0, 10, 20, 30, 40, 50]"
      ]
     },
     "execution_count": 14,
     "metadata": {},
     "output_type": "execute_result"
    }
   ],
   "source": [
    "x"
   ]
  },
  {
   "cell_type": "code",
   "execution_count": 15,
   "id": "88b79a0b-69ad-4fb6-81aa-8612cea79b2f",
   "metadata": {},
   "outputs": [
    {
     "data": {
      "text/plain": [
       "6"
      ]
     },
     "execution_count": 15,
     "metadata": {},
     "output_type": "execute_result"
    }
   ],
   "source": [
    "len(x)"
   ]
  },
  {
   "cell_type": "code",
   "execution_count": 19,
   "id": "92d26501-e908-417d-b68f-0ef151a4405c",
   "metadata": {},
   "outputs": [
    {
     "data": {
      "text/plain": [
       "[0, 10, 20, 30, 40, 50]"
      ]
     },
     "execution_count": 19,
     "metadata": {},
     "output_type": "execute_result"
    }
   ],
   "source": [
    "list(range(0,60,10))"
   ]
  },
  {
   "cell_type": "code",
   "execution_count": 20,
   "id": "e8363209-68b1-4184-9d14-012291279d63",
   "metadata": {},
   "outputs": [
    {
     "data": {
      "text/plain": [
       "[0,\n",
       " 10,\n",
       " 20,\n",
       " 30,\n",
       " 40,\n",
       " 50,\n",
       " 60,\n",
       " 70,\n",
       " 80,\n",
       " 90,\n",
       " 100,\n",
       " 110,\n",
       " 120,\n",
       " 130,\n",
       " 140,\n",
       " 150,\n",
       " 160,\n",
       " 170,\n",
       " 180,\n",
       " 190,\n",
       " 200]"
      ]
     },
     "execution_count": 20,
     "metadata": {},
     "output_type": "execute_result"
    }
   ],
   "source": [
    "list(range(0,201,10))"
   ]
  },
  {
   "cell_type": "code",
   "execution_count": 22,
   "id": "1096a40d-aa1a-473a-a4ae-cfcb4ab48903",
   "metadata": {},
   "outputs": [
    {
     "data": {
      "text/plain": [
       "[2, 4, 6, 8, 10, 12, 14, 16, 18, 20]"
      ]
     },
     "execution_count": 22,
     "metadata": {},
     "output_type": "execute_result"
    }
   ],
   "source": [
    "list(range(2,21,2))"
   ]
  },
  {
   "cell_type": "code",
   "execution_count": 24,
   "id": "fdefa616-7f2d-4cfa-a54b-af1e5696ab0f",
   "metadata": {},
   "outputs": [
    {
     "data": {
      "text/plain": [
       "[3, 6, 9, 12, 15, 18, 21, 24, 27, 30]"
      ]
     },
     "execution_count": 24,
     "metadata": {},
     "output_type": "execute_result"
    }
   ],
   "source": [
    "list(range(3,31,3))"
   ]
  },
  {
   "cell_type": "code",
   "execution_count": 25,
   "id": "125c4c27-b966-4d92-9daf-e6153ef8e725",
   "metadata": {},
   "outputs": [
    {
     "data": {
      "text/plain": [
       "[10, 20, 30, 40, 50, 60, 70, 80, 90, 100]"
      ]
     },
     "execution_count": 25,
     "metadata": {},
     "output_type": "execute_result"
    }
   ],
   "source": [
    "list(range(10,101,10))"
   ]
  },
  {
   "cell_type": "code",
   "execution_count": 26,
   "id": "ef5c5e74-80a8-4aa9-9721-0ae5a0061bfd",
   "metadata": {},
   "outputs": [
    {
     "data": {
      "text/plain": [
       "[8, 16, 24, 32, 40, 48, 56, 64, 72, 80]"
      ]
     },
     "execution_count": 26,
     "metadata": {},
     "output_type": "execute_result"
    }
   ],
   "source": [
    "list(range(8,81,8))"
   ]
  },
  {
   "cell_type": "code",
   "execution_count": 28,
   "id": "0db2029f-0a28-451f-83fb-2866a96ef9a4",
   "metadata": {},
   "outputs": [
    {
     "data": {
      "text/plain": [
       "[200]"
      ]
     },
     "execution_count": 28,
     "metadata": {},
     "output_type": "execute_result"
    }
   ],
   "source": [
    "list(range(200,301,200))"
   ]
  },
  {
   "cell_type": "code",
   "execution_count": 33,
   "id": "f400af8f-ee15-4324-9260-c6f93a01d83b",
   "metadata": {},
   "outputs": [
    {
     "data": {
      "text/plain": [
       "[6, 12, 18, 24, 30, 36, 42, 48, 54, 60]"
      ]
     },
     "execution_count": 33,
     "metadata": {},
     "output_type": "execute_result"
    }
   ],
   "source": [
    "list(range(6,61,6))"
   ]
  },
  {
   "cell_type": "code",
   "execution_count": 34,
   "id": "8bc539cc-0777-4847-bc2f-d6ab91231873",
   "metadata": {},
   "outputs": [
    {
     "data": {
      "text/plain": [
       "[7, 14, 21, 28, 35, 42, 49, 56, 63, 70]"
      ]
     },
     "execution_count": 34,
     "metadata": {},
     "output_type": "execute_result"
    }
   ],
   "source": [
    "list(range(7,71,7))"
   ]
  },
  {
   "cell_type": "code",
   "execution_count": 35,
   "id": "78804809-7d98-4ecf-a8e8-b93c0590b8a5",
   "metadata": {},
   "outputs": [
    {
     "data": {
      "text/plain": [
       "[4, 8, 12, 16, 20, 24, 28, 32, 36, 40]"
      ]
     },
     "execution_count": 35,
     "metadata": {},
     "output_type": "execute_result"
    }
   ],
   "source": [
    "list(range(4,41,4))"
   ]
  },
  {
   "cell_type": "code",
   "execution_count": 42,
   "id": "877db020-20af-445d-bd9a-b0e95aec2ce6",
   "metadata": {},
   "outputs": [
    {
     "name": "stdin",
     "output_type": "stream",
     "text": [
      "please enter number a:  200\n"
     ]
    },
    {
     "name": "stdout",
     "output_type": "stream",
     "text": [
      "1  x 200 = 200\n",
      "2  x 200 = 400\n",
      "3  x 200 = 600\n",
      "4  x 200 = 800\n",
      "5  x 200 = 1000\n",
      "6  x 200 = 1200\n",
      "7  x 200 = 1400\n",
      "8  x 200 = 1600\n",
      "9  x 200 = 1800\n",
      "10  x 200 = 2000\n"
     ]
    }
   ],
   "source": [
    "a=int(input('please enter number a: '))\n",
    "\n",
    "numbersAbc=range(1,11)\n",
    "for i in numbersAbc:\n",
    "    print(i, ' x', a, '=', i*a)\n"
   ]
  },
  {
   "cell_type": "code",
   "execution_count": 39,
   "id": "e58b93c1-e310-4f3c-bc8a-2d40c77f6f36",
   "metadata": {},
   "outputs": [
    {
     "data": {
      "text/plain": [
       "[1, 2, 3, 4, 5, 6, 7, 8, 9, 10]"
      ]
     },
     "execution_count": 39,
     "metadata": {},
     "output_type": "execute_result"
    }
   ],
   "source": [
    "list(range(1,11))"
   ]
  },
  {
   "cell_type": "code",
   "execution_count": null,
   "id": "3b2039d2-fd39-4882-a283-dd6f93a8213c",
   "metadata": {},
   "outputs": [],
   "source": []
  }
 ],
 "metadata": {
  "kernelspec": {
   "display_name": "Python 3 (ipykernel)",
   "language": "python",
   "name": "python3"
  },
  "language_info": {
   "codemirror_mode": {
    "name": "ipython",
    "version": 3
   },
   "file_extension": ".py",
   "mimetype": "text/x-python",
   "name": "python",
   "nbconvert_exporter": "python",
   "pygments_lexer": "ipython3",
   "version": "3.9.7"
  }
 },
 "nbformat": 4,
 "nbformat_minor": 5
}
