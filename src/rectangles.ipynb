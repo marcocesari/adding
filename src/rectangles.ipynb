{
 "cells": [
  {
   "cell_type": "code",
   "execution_count": 1,
   "id": "91f587aa-06ce-4989-b919-319ab26ddd5e",
   "metadata": {},
   "outputs": [
    {
     "data": {
      "application/vnd.jupyter.widget-view+json": {
       "model_id": "5af4d8fcce3e4cb5bd09ac1b6abe2f17",
       "version_major": 2,
       "version_minor": 0
      },
      "text/plain": [
       "RoughCanvas()"
      ]
     },
     "metadata": {},
     "output_type": "display_data"
    }
   ],
   "source": [
    "from ipycanvas import RoughCanvas\n",
    "\n",
    "canvas = RoughCanvas()\n",
    "\n",
    "canvas.stroke_style = 'red'\n",
    "canvas.fill_style = 'blue'\n",
    "canvas.stroke_rect(100, 100, 400, 100)\n",
    "canvas.fill_rect(50, 50, 100, 100)\n",
    "\n",
    "canvas.stroke_style = 'purple'\n",
    "canvas.fill_style = 'green'\n",
    "canvas.stroke_circle(300, 300, 100)\n",
    "canvas.fill_circle(350, 350, 100)\n",
    "\n",
    "canvas.stroke_line(200, 200, 300, 300)\n",
    "\n",
    "canvas"
   ]
  },
  {
   "cell_type": "code",
   "execution_count": 5,
   "id": "9e3bc761-991b-4fb0-8fc0-1f0ac01a1aa6",
   "metadata": {},
   "outputs": [
    {
     "name": "stdin",
     "output_type": "stream",
     "text": [
      "please enter number a:  200\n",
      "please enter number b:  100\n"
     ]
    },
    {
     "name": "stdout",
     "output_type": "stream",
     "text": [
      "The area of the rectangle is 20000\n"
     ]
    }
   ],
   "source": [
    "a=int(input('please enter number a: '))\n",
    "b=int(input('please enter number b: '))\n",
    "area=a*b\n",
    "print('The area of the rectangle is', area)\n"
   ]
  },
  {
   "cell_type": "code",
   "execution_count": 7,
   "id": "8a3695dd-8ed6-423f-a627-4e9a01c13be9",
   "metadata": {},
   "outputs": [
    {
     "data": {
      "application/vnd.jupyter.widget-view+json": {
       "model_id": "402f11e4e126466e824bbfb99baedb52",
       "version_major": 2,
       "version_minor": 0
      },
      "text/plain": [
       "RoughCanvas()"
      ]
     },
     "metadata": {},
     "output_type": "display_data"
    }
   ],
   "source": [
    "from ipycanvas import RoughCanvas\n",
    "kansas = RoughCanvas()\n",
    "kansas.stroke_rect(0,0,a,b)\n",
    "kansas"
   ]
  },
  {
   "cell_type": "code",
   "execution_count": null,
   "id": "9da33e7a-10e0-43f7-a6c0-0a1baec5e4cd",
   "metadata": {},
   "outputs": [],
   "source": []
  },
  {
   "cell_type": "code",
   "execution_count": null,
   "id": "14662c14-7090-4a39-811e-3bc3ae566915",
   "metadata": {},
   "outputs": [],
   "source": []
  }
 ],
 "metadata": {
  "kernelspec": {
   "display_name": "Python 3 (ipykernel)",
   "language": "python",
   "name": "python3"
  },
  "language_info": {
   "codemirror_mode": {
    "name": "ipython",
    "version": 3
   },
   "file_extension": ".py",
   "mimetype": "text/x-python",
   "name": "python",
   "nbconvert_exporter": "python",
   "pygments_lexer": "ipython3",
   "version": "3.9.7"
  }
 },
 "nbformat": 4,
 "nbformat_minor": 5
}
