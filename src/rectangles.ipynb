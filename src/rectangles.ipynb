{
 "cells": [
  {
   "cell_type": "code",
   "execution_count": 1,
   "id": "91f587aa-06ce-4989-b919-319ab26ddd5e",
   "metadata": {},
   "outputs": [
    {
     "data": {
      "application/vnd.jupyter.widget-view+json": {
       "model_id": "3a0c380b9f74444f97fcc2fe5289140a",
       "version_major": 2,
       "version_minor": 0
      },
      "text/plain": [
       "RoughCanvas()"
      ]
     },
     "metadata": {},
     "output_type": "display_data"
    }
   ],
   "source": [
    "from ipycanvas import RoughCanvas\n",
    "\n",
    "canvas = RoughCanvas()\n",
    "\n",
    "canvas.stroke_style = 'red'\n",
    "canvas.fill_style = 'blue'\n",
    "canvas.stroke_rect(100, 100, 400, 100)\n",
    "canvas.fill_rect(50, 50, 100, 100)\n",
    "\n",
    "canvas.stroke_style = 'purple'\n",
    "canvas.fill_style = 'green'\n",
    "canvas.stroke_circle(300, 300, 100)\n",
    "canvas.fill_circle(350, 350, 100)\n",
    "\n",
    "canvas.stroke_line(200, 200, 300, 300)\n",
    "\n",
    "canvas"
   ]
  },
  {
   "cell_type": "code",
   "execution_count": 17,
   "id": "9e3bc761-991b-4fb0-8fc0-1f0ac01a1aa6",
   "metadata": {},
   "outputs": [
    {
     "name": "stdin",
     "output_type": "stream",
     "text": [
      "please enter number a:  355\n",
      "please enter number b:  123\n"
     ]
    },
    {
     "name": "stdout",
     "output_type": "stream",
     "text": [
      "The area of the rectangle is 43665\n"
     ]
    }
   ],
   "source": [
    "a=int(input('please enter number a: '))\n",
    "b=int(input('please enter number b: '))\n",
    "area=a*b\n",
    "print('The area of the rectangle is', area)\n"
   ]
  },
  {
   "cell_type": "code",
   "execution_count": 18,
   "id": "8a3695dd-8ed6-423f-a627-4e9a01c13be9",
   "metadata": {},
   "outputs": [
    {
     "data": {
      "application/vnd.jupyter.widget-view+json": {
       "model_id": "a405068bd3e94b4e830d5129ccbf25bb",
       "version_major": 2,
       "version_minor": 0
      },
      "text/plain": [
       "RoughCanvas()"
      ]
     },
     "metadata": {},
     "output_type": "display_data"
    }
   ],
   "source": [
    "from ipycanvas import RoughCanvas\n",
    "kansas = RoughCanvas()\n",
    "kansas.stroke_rect(0,0,a,b)\n",
    "kansas"
   ]
  },
  {
   "cell_type": "code",
   "execution_count": 16,
   "id": "379b884f-b736-496d-957c-5dbb0a0c563d",
   "metadata": {},
   "outputs": [
    {
     "data": {
      "application/vnd.jupyter.widget-view+json": {
       "model_id": "d4315f27b85344759955de5bf1bb7b71",
       "version_major": 2,
       "version_minor": 0
      },
      "text/plain": [
       "RoughCanvas()"
      ]
     },
     "metadata": {},
     "output_type": "display_data"
    }
   ],
   "source": [
    "from ipycanvas import RoughCanvas\n",
    "a=123\n",
    "b=234\n",
    "k = RoughCanvas()\n",
    "k.stroke_rect(0,0,a,b)\n",
    "k"
   ]
  },
  {
   "cell_type": "code",
   "execution_count": 21,
   "id": "6b26dcfa-de7a-414e-b784-b87146c16dbf",
   "metadata": {},
   "outputs": [
    {
     "data": {
      "application/vnd.jupyter.widget-view+json": {
       "model_id": "f78e2798713b45698693ea68964a0d3e",
       "version_major": 2,
       "version_minor": 0
      },
      "text/plain": [
       "RoughCanvas()"
      ]
     },
     "metadata": {},
     "output_type": "display_data"
    }
   ],
   "source": [
    "from ipycanvas import RoughCanvas\n",
    "\n",
    "canvas = RoughCanvas()\n",
    "canvas.stroke_line(0,0,300,0)\n",
    "\n",
    "canvas"
   ]
  },
  {
   "cell_type": "code",
   "execution_count": 26,
   "id": "c08e525a-a02a-43a0-84e6-37b763ca1c60",
   "metadata": {},
   "outputs": [
    {
     "data": {
      "application/vnd.jupyter.widget-view+json": {
       "model_id": "237b88a2f76e41188c4ddb5825c8591d",
       "version_major": 2,
       "version_minor": 0
      },
      "text/plain": [
       "RoughCanvas()"
      ]
     },
     "metadata": {},
     "output_type": "display_data"
    }
   ],
   "source": [
    "from ipycanvas import RoughCanvas\n",
    "\n",
    "canvas = RoughCanvas()\n",
    "canvas.stroke_line(0,0,300,0)\n",
    "canvas.stroke_line(0,100,300,100)\n",
    "canvas.stroke_line(0,200,300,200)\n",
    "canvas"
   ]
  },
  {
   "cell_type": "code",
   "execution_count": 32,
   "id": "d0e8adaf-4cc9-41ff-b19d-41f82c88c712",
   "metadata": {},
   "outputs": [
    {
     "data": {
      "application/vnd.jupyter.widget-view+json": {
       "model_id": "7dd9d598280e4271bfaeb9fc86999726",
       "version_major": 2,
       "version_minor": 0
      },
      "text/plain": [
       "RoughCanvas()"
      ]
     },
     "metadata": {},
     "output_type": "display_data"
    }
   ],
   "source": [
    "from ipycanvas import RoughCanvas\n",
    "\n",
    "canvas = RoughCanvas()\n",
    "\n",
    "\n",
    "for y in [0,10,20,30,40,50,60,70,80,90]:\n",
    "    canvas.stroke_line(0,y,300,y)\n",
    "\n",
    "canvas"
   ]
  },
  {
   "cell_type": "code",
   "execution_count": 4,
   "id": "3f2f8726-724f-409d-a58e-03f34d59d328",
   "metadata": {},
   "outputs": [
    {
     "data": {
      "application/vnd.jupyter.widget-view+json": {
       "model_id": "e9688188a2c84c2a8f1d9441430c8ef9",
       "version_major": 2,
       "version_minor": 0
      },
      "text/plain": [
       "RoughCanvas()"
      ]
     },
     "metadata": {},
     "output_type": "display_data"
    }
   ],
   "source": [
    "from ipycanvas import RoughCanvas\n",
    "\n",
    "canvas = RoughCanvas()\n",
    "\n",
    "for xcaabb in [0,10,20,30,40,50,60,70,80,90]:\n",
    "    canvas.stroke_line(xcaabb,0,xcaabb,300)\n",
    "\n",
    "canvas"
   ]
  },
  {
   "cell_type": "code",
   "execution_count": null,
   "id": "ac3ffbe4-a125-410e-8bf1-6199367aa2e5",
   "metadata": {},
   "outputs": [],
   "source": []
  }
 ],
 "metadata": {
  "kernelspec": {
   "display_name": "Python 3 (ipykernel)",
   "language": "python",
   "name": "python3"
  },
  "language_info": {
   "codemirror_mode": {
    "name": "ipython",
    "version": 3
   },
   "file_extension": ".py",
   "mimetype": "text/x-python",
   "name": "python",
   "nbconvert_exporter": "python",
   "pygments_lexer": "ipython3",
   "version": "3.9.7"
  }
 },
 "nbformat": 4,
 "nbformat_minor": 5
}
